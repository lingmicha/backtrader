{
 "cells": [
  {
   "cell_type": "code",
   "execution_count": 1,
   "metadata": {},
   "outputs": [],
   "source": [
    "%matplotlib inline"
   ]
  },
  {
   "cell_type": "code",
   "execution_count": 2,
   "metadata": {},
   "outputs": [],
   "source": [
    "from __future__ import (absolute_import, division, print_function,\n",
    "                        unicode_literals)\n",
    "\n",
    "\n",
    "import argparse\n",
    "import collections\n",
    "import datetime\n",
    "\n",
    "\n",
    "import backtrader as bt\n",
    "\n",
    "\n",
    "class St(bt.SignalStrategy):\n",
    "    params = (\n",
    "        ('pfast', 13),\n",
    "        ('pslow', 50),\n",
    "        ('printdata', False),\n",
    "        ('stake', 1000),\n",
    "        ('short', False),\n",
    "    )\n",
    "\n",
    "    def __init__(self):\n",
    "        self.sfast = bt.indicators.SMA(period=self.p.pfast)\n",
    "        self.sslow = bt.indicators.SMA(period=self.p.pslow)\n",
    "        self.cover = bt.indicators.CrossOver(self.sfast, self.sslow)\n",
    "        if self.p.short:\n",
    "            self.signal_add(bt.SIGNAL_LONGSHORT, self.cover)\n",
    "        else:\n",
    "            self.signal_add(bt.SIGNAL_LONG, self.cover)\n",
    "\n",
    "    def start(self):\n",
    "        super(self.__class__, self).start()\n",
    "        if self.p.printdata:\n",
    "            txtfields = list()\n",
    "            txtfields.append('Len')\n",
    "            txtfields.append('Datetime')\n",
    "            txtfields.append('Open')\n",
    "            txtfields.append('High')\n",
    "            txtfields.append('Low')\n",
    "            txtfields.append('Close')\n",
    "            txtfields.append('Volume')\n",
    "            txtfields.append('OpenInterest')\n",
    "            print(','.join(txtfields))\n",
    "\n",
    "    def next(self):\n",
    "        super(self.__class__, self).next()\n",
    "        if self.p.printdata:\n",
    "            # Print only 1st data ... is just a check that things are running\n",
    "            txtfields = list()\n",
    "            txtfields.append('%04d' % len(self))\n",
    "            txtfields.append(self.data.datetime.datetime(0).isoformat())\n",
    "            txtfields.append('%.2f' % self.data0.open[0])\n",
    "            txtfields.append('%.2f' % self.data0.high[0])\n",
    "            txtfields.append('%.2f' % self.data0.low[0])\n",
    "            txtfields.append('%.2f' % self.data0.close[0])\n",
    "            txtfields.append('%.2f' % self.data0.volume[0])\n",
    "            txtfields.append('%.2f' % self.data0.openinterest[0])\n",
    "            print(','.join(txtfields))\n",
    "\n",
    "\n",
    "_TFRAMES = collections.OrderedDict(\n",
    "    (\n",
    "        ('minutes', bt.TimeFrame.Minutes),\n",
    "        ('days', bt.TimeFrame.Days),\n",
    "        ('weeks', bt.TimeFrame.Weeks),\n",
    "        ('months', bt.TimeFrame.Months),\n",
    "        ('years', bt.TimeFrame.Years),\n",
    "    )\n",
    ")\n",
    "\n",
    "_TFS = _TFRAMES.keys()\n",
    "\n",
    "\n",
    "def runstrat(args=None):\n",
    "    args = parse_args(args)\n",
    "\n",
    "    cerebro = bt.Cerebro()\n",
    "    cerebro.broker.set_cash(args.cash)\n",
    "\n",
    "    dkwargs = dict()\n",
    "    if args.fromdate:\n",
    "        fromdate = datetime.datetime.strptime(args.fromdate, '%Y-%m-%d')\n",
    "        dkwargs['fromdate'] = fromdate\n",
    "\n",
    "    if args.todate:\n",
    "        todate = datetime.datetime.strptime(args.todate, '%Y-%m-%d')\n",
    "        dkwargs['todate'] = todate\n",
    "\n",
    "    if args.timeframe:\n",
    "        dkwargs['timeframe'] = _TFRAMES[args.timeframe]\n",
    "\n",
    "    if args.compression:\n",
    "        dkwargs['compression'] = args.compression\n",
    "\n",
    "    # data0 = bt.feeds.BacktraderCSVData(dataname=args.data0, **dkwargs)\n",
    "    data0 = bt.feeds.VCData(dataname=args.data0, historical=True, **dkwargs)\n",
    "    cerebro.adddata(data0, name='Data0')\n",
    "\n",
    "    cerebro.addstrategy(St, short=args.short, printdata=args.printdata)\n",
    "    cerebro.addsizer(bt.sizers.FixedSize, stake=args.stake)\n",
    "\n",
    "    # Own analyzerset\n",
    "    cerebro.addanalyzer(bt.analyzers.TimeReturn, timeframe=bt.TimeFrame.Years)\n",
    "    cerebro.addanalyzer(bt.analyzers.SharpeRatio, timeframe=bt.TimeFrame.Years)\n",
    "    cerebro.addanalyzer(bt.analyzers.SQN,)\n",
    "\n",
    "    if args.pyfolio:\n",
    "        cerebro.addanalyzer(bt.analyzers.PyFolio, _name='pyfolio',\n",
    "                            timeframe=_TFRAMES[args.pftimeframe])\n",
    "\n",
    "    if args.printout:\n",
    "        print('Start run')\n",
    "    results = cerebro.run()\n",
    "    if args.printout:\n",
    "        print('End Run')\n",
    "    strat = results[0]\n",
    "\n",
    "    # Results of own analyzers\n",
    "    al = strat.analyzers.timereturn\n",
    "    print('-- Time Return:')\n",
    "    for k, v in al.get_analysis().items():\n",
    "        print('{}: {}'.format(k, v))\n",
    "\n",
    "    al = strat.analyzers.sharperatio\n",
    "    print('-- Sharpe Ratio:')\n",
    "    for k, v in al.get_analysis().items():\n",
    "        print('{}: {}'.format(k, v))\n",
    "\n",
    "    al = strat.analyzers.sqn\n",
    "    print('-- SQN:')\n",
    "    for k, v in al.get_analysis().items():\n",
    "        print('{}: {}'.format(k, v))\n",
    "\n",
    "    if args.pyfolio:\n",
    "        pyfoliozer = strat.analyzers.getbyname('pyfolio',)\n",
    "\n",
    "        returns, positions, transactions, gross_lev = pyfoliozer.get_pf_items()\n",
    "        if args.printout:\n",
    "            print('-- RETURNS')\n",
    "            print(returns)\n",
    "            print('-- POSITIONS')\n",
    "            print(positions)\n",
    "            print('-- TRANSACTIONS')\n",
    "            print(transactions)\n",
    "            print('-- GROSS LEVERAGE')\n",
    "            print(gross_lev)\n",
    "\n",
    "        if True:\n",
    "            import pyfolio as pf\n",
    "            pf.create_full_tear_sheet(\n",
    "                returns,\n",
    "                positions=positions,\n",
    "                transactions=transactions,\n",
    "                gross_lev=gross_lev,\n",
    "                round_trips=True)\n",
    "\n",
    "    if args.plot:\n",
    "        pkwargs = dict(style='bar')\n",
    "        if args.plot is not True:  # evals to True but is not True\n",
    "            pkwargs = eval('dict(' + args.plot + ')')  # args were passed\n",
    "\n",
    "        cerebro.plot(**pkwargs)\n",
    "\n",
    "\n",
    "def parse_args(pargs=None):\n",
    "\n",
    "    parser = argparse.ArgumentParser(\n",
    "        formatter_class=argparse.ArgumentDefaultsHelpFormatter,\n",
    "        description='Sample for pivot point and cross plotting')\n",
    "\n",
    "    parser.add_argument('--data0', required=True,\n",
    "                        # default='../../datas/yhoo-1996-2015.txt',\n",
    "                        help='Data to be read in')\n",
    "\n",
    "    parser.add_argument('--timeframe', required=False,\n",
    "                        default=next(iter(_TFS)), choices=_TFS,\n",
    "                        help='Starting date in YYYY-MM-DD format')\n",
    "\n",
    "    parser.add_argument('--compression', required=False,\n",
    "                        default=1, type=int,\n",
    "                        help='Starting date in YYYY-MM-DD format')\n",
    "\n",
    "    if False:\n",
    "        parser.add_argument('--data1', required=False,\n",
    "                            default='../../datas/orcl-1995-2014.txt',\n",
    "                            help='Data to be read in')\n",
    "\n",
    "    parser.add_argument('--fromdate', required=False,\n",
    "                        default='2013-01-01',\n",
    "                        help='Starting date in YYYY-MM-DD format')\n",
    "\n",
    "    parser.add_argument('--todate', required=False,\n",
    "                        default='2015-12-31',\n",
    "                        help='Ending date in YYYY-MM-DD format')\n",
    "\n",
    "    parser.add_argument('--stake', required=False, action='store',\n",
    "                        default=10, type=int,\n",
    "                        help=('Stake size'))\n",
    "\n",
    "    parser.add_argument('--short', required=False, action='store_true',\n",
    "                        help=('Go short too'))\n",
    "\n",
    "    parser.add_argument('--cash', required=False, action='store',\n",
    "                        type=float, default=50000,\n",
    "                        help=('Cash to start with'))\n",
    "\n",
    "    parser.add_argument('--pyfolio', required=False, action='store_true',\n",
    "                        help=('Do pyfolio things'))\n",
    "\n",
    "    parser.add_argument('--pftimeframe', required=False,\n",
    "                        default='days', choices=_TFS,\n",
    "                        help='Starting date in YYYY-MM-DD format')\n",
    "\n",
    "    parser.add_argument('--printout', required=False, action='store_true',\n",
    "                        help=('Print infos'))\n",
    "\n",
    "    parser.add_argument('--printdata', required=False, action='store_true',\n",
    "                        help=('Print data lines'))\n",
    "\n",
    "    # Plot options\n",
    "    parser.add_argument('--plot', '-p', nargs='?', required=False,\n",
    "                        metavar='kwargs', const=True,\n",
    "                        help=('Plot the read data applying any kwargs passed\\n'\n",
    "                              '\\n'\n",
    "                              'For example:\\n'\n",
    "                              '\\n'\n",
    "                              '  --plot style=\"candle\" (to plot candles)\\n'))\n",
    "\n",
    "    if pargs is not None:\n",
    "        return parser.parse_args(pargs)\n",
    "\n",
    "    return parser.parse_args()"
   ]
  },
  {
   "cell_type": "code",
   "execution_count": 3,
   "metadata": {
    "scrolled": false
   },
   "outputs": [
    {
     "name": "stdout",
     "output_type": "stream",
     "text": [
      "Start run\n",
      "End Run\n",
      "-- Time Return:\n",
      "-- Sharpe Ratio:\n",
      "sharperatio: None\n",
      "-- SQN:\n",
      "sqn: 0\n",
      "trades: 0\n"
     ]
    },
    {
     "ename": "TypeError",
     "evalue": "Index(...) must be called with a collection of some kind, 'index' was passed",
     "output_type": "error",
     "traceback": [
      "\u001b[0;31m---------------------------------------------------------------------------\u001b[0m",
      "\u001b[0;31mStopIteration\u001b[0m                             Traceback (most recent call last)",
      "File \u001b[0;32m~/Projects/web3env/lib/python3.9/site-packages/pandas/core/frame.py:2182\u001b[0m, in \u001b[0;36mDataFrame.from_records\u001b[0;34m(cls, data, index, exclude, columns, coerce_float, nrows)\u001b[0m\n\u001b[1;32m   2181\u001b[0m \u001b[38;5;28;01mtry\u001b[39;00m:\n\u001b[0;32m-> 2182\u001b[0m     first_row \u001b[38;5;241m=\u001b[39m \u001b[38;5;28;43mnext\u001b[39;49m\u001b[43m(\u001b[49m\u001b[43mdata\u001b[49m\u001b[43m)\u001b[49m\n\u001b[1;32m   2183\u001b[0m \u001b[38;5;28;01mexcept\u001b[39;00m \u001b[38;5;167;01mStopIteration\u001b[39;00m:\n",
      "\u001b[0;31mStopIteration\u001b[0m: ",
      "\nDuring handling of the above exception, another exception occurred:\n",
      "\u001b[0;31mTypeError\u001b[0m                                 Traceback (most recent call last)",
      "Input \u001b[0;32mIn [3]\u001b[0m, in \u001b[0;36m<module>\u001b[0;34m\u001b[0m\n\u001b[0;32m----> 1\u001b[0m \u001b[43mrunstrat\u001b[49m\u001b[43m(\u001b[49m\u001b[38;5;124;43m'\u001b[39;49m\u001b[38;5;124;43m--data0 015ES --timeframe days --compression 1 --pyfolio --printout --cash 200000 --short\u001b[39;49m\u001b[38;5;124;43m'\u001b[39;49m\u001b[38;5;241;43m.\u001b[39;49m\u001b[43msplit\u001b[49m\u001b[43m(\u001b[49m\u001b[43m)\u001b[49m\u001b[43m)\u001b[49m\n",
      "Input \u001b[0;32mIn [2]\u001b[0m, in \u001b[0;36mrunstrat\u001b[0;34m(args)\u001b[0m\n\u001b[1;32m    134\u001b[0m \u001b[38;5;28;01mif\u001b[39;00m args\u001b[38;5;241m.\u001b[39mpyfolio:\n\u001b[1;32m    135\u001b[0m     pyfoliozer \u001b[38;5;241m=\u001b[39m strat\u001b[38;5;241m.\u001b[39manalyzers\u001b[38;5;241m.\u001b[39mgetbyname(\u001b[38;5;124m'\u001b[39m\u001b[38;5;124mpyfolio\u001b[39m\u001b[38;5;124m'\u001b[39m,)\n\u001b[0;32m--> 137\u001b[0m     returns, positions, transactions, gross_lev \u001b[38;5;241m=\u001b[39m \u001b[43mpyfoliozer\u001b[49m\u001b[38;5;241;43m.\u001b[39;49m\u001b[43mget_pf_items\u001b[49m\u001b[43m(\u001b[49m\u001b[43m)\u001b[49m\n\u001b[1;32m    138\u001b[0m     \u001b[38;5;28;01mif\u001b[39;00m args\u001b[38;5;241m.\u001b[39mprintout:\n\u001b[1;32m    139\u001b[0m         \u001b[38;5;28mprint\u001b[39m(\u001b[38;5;124m'\u001b[39m\u001b[38;5;124m-- RETURNS\u001b[39m\u001b[38;5;124m'\u001b[39m)\n",
      "File \u001b[0;32m~/Projects/backtrader/backtrader/analyzers/pyfolio.py:122\u001b[0m, in \u001b[0;36mPyFolio.get_pf_items\u001b[0;34m(self)\u001b[0m\n\u001b[1;32m    119\u001b[0m \u001b[38;5;66;03m#\u001b[39;00m\n\u001b[1;32m    120\u001b[0m \u001b[38;5;66;03m# Returns\u001b[39;00m\n\u001b[1;32m    121\u001b[0m cols \u001b[38;5;241m=\u001b[39m [\u001b[38;5;124m'\u001b[39m\u001b[38;5;124mindex\u001b[39m\u001b[38;5;124m'\u001b[39m, \u001b[38;5;124m'\u001b[39m\u001b[38;5;124mreturn\u001b[39m\u001b[38;5;124m'\u001b[39m]\n\u001b[0;32m--> 122\u001b[0m returns \u001b[38;5;241m=\u001b[39m \u001b[43mDF\u001b[49m\u001b[38;5;241;43m.\u001b[39;49m\u001b[43mfrom_records\u001b[49m\u001b[43m(\u001b[49m\u001b[43miteritems\u001b[49m\u001b[43m(\u001b[49m\u001b[38;5;28;43mself\u001b[39;49m\u001b[38;5;241;43m.\u001b[39;49m\u001b[43mrets\u001b[49m\u001b[43m[\u001b[49m\u001b[38;5;124;43m'\u001b[39;49m\u001b[38;5;124;43mreturns\u001b[39;49m\u001b[38;5;124;43m'\u001b[39;49m\u001b[43m]\u001b[49m\u001b[43m)\u001b[49m\u001b[43m,\u001b[49m\n\u001b[1;32m    123\u001b[0m \u001b[43m                          \u001b[49m\u001b[43mindex\u001b[49m\u001b[38;5;241;43m=\u001b[39;49m\u001b[43mcols\u001b[49m\u001b[43m[\u001b[49m\u001b[38;5;241;43m0\u001b[39;49m\u001b[43m]\u001b[49m\u001b[43m,\u001b[49m\u001b[43m \u001b[49m\u001b[43mcolumns\u001b[49m\u001b[38;5;241;43m=\u001b[39;49m\u001b[43mcols\u001b[49m\u001b[43m)\u001b[49m\n\u001b[1;32m    124\u001b[0m returns\u001b[38;5;241m.\u001b[39mindex \u001b[38;5;241m=\u001b[39m pandas\u001b[38;5;241m.\u001b[39mto_datetime(returns\u001b[38;5;241m.\u001b[39mindex)\n\u001b[1;32m    125\u001b[0m returns\u001b[38;5;241m.\u001b[39mindex \u001b[38;5;241m=\u001b[39m returns\u001b[38;5;241m.\u001b[39mindex\u001b[38;5;241m.\u001b[39mtz_localize(\u001b[38;5;124m'\u001b[39m\u001b[38;5;124mUTC\u001b[39m\u001b[38;5;124m'\u001b[39m)\n",
      "File \u001b[0;32m~/Projects/web3env/lib/python3.9/site-packages/pandas/core/frame.py:2184\u001b[0m, in \u001b[0;36mDataFrame.from_records\u001b[0;34m(cls, data, index, exclude, columns, coerce_float, nrows)\u001b[0m\n\u001b[1;32m   2182\u001b[0m     first_row \u001b[38;5;241m=\u001b[39m \u001b[38;5;28mnext\u001b[39m(data)\n\u001b[1;32m   2183\u001b[0m \u001b[38;5;28;01mexcept\u001b[39;00m \u001b[38;5;167;01mStopIteration\u001b[39;00m:\n\u001b[0;32m-> 2184\u001b[0m     \u001b[38;5;28;01mreturn\u001b[39;00m \u001b[38;5;28;43mcls\u001b[39;49m\u001b[43m(\u001b[49m\u001b[43mindex\u001b[49m\u001b[38;5;241;43m=\u001b[39;49m\u001b[43mindex\u001b[49m\u001b[43m,\u001b[49m\u001b[43m \u001b[49m\u001b[43mcolumns\u001b[49m\u001b[38;5;241;43m=\u001b[39;49m\u001b[43mcolumns\u001b[49m\u001b[43m)\u001b[49m\n\u001b[1;32m   2186\u001b[0m dtype \u001b[38;5;241m=\u001b[39m \u001b[38;5;28;01mNone\u001b[39;00m\n\u001b[1;32m   2187\u001b[0m \u001b[38;5;28;01mif\u001b[39;00m \u001b[38;5;28mhasattr\u001b[39m(first_row, \u001b[38;5;124m\"\u001b[39m\u001b[38;5;124mdtype\u001b[39m\u001b[38;5;124m\"\u001b[39m) \u001b[38;5;129;01mand\u001b[39;00m first_row\u001b[38;5;241m.\u001b[39mdtype\u001b[38;5;241m.\u001b[39mnames:\n",
      "File \u001b[0;32m~/Projects/web3env/lib/python3.9/site-packages/pandas/core/frame.py:637\u001b[0m, in \u001b[0;36mDataFrame.__init__\u001b[0;34m(self, data, index, columns, dtype, copy)\u001b[0m\n\u001b[1;32m    631\u001b[0m     mgr \u001b[38;5;241m=\u001b[39m \u001b[38;5;28mself\u001b[39m\u001b[38;5;241m.\u001b[39m_init_mgr(\n\u001b[1;32m    632\u001b[0m         data, axes\u001b[38;5;241m=\u001b[39m{\u001b[38;5;124m\"\u001b[39m\u001b[38;5;124mindex\u001b[39m\u001b[38;5;124m\"\u001b[39m: index, \u001b[38;5;124m\"\u001b[39m\u001b[38;5;124mcolumns\u001b[39m\u001b[38;5;124m\"\u001b[39m: columns}, dtype\u001b[38;5;241m=\u001b[39mdtype, copy\u001b[38;5;241m=\u001b[39mcopy\n\u001b[1;32m    633\u001b[0m     )\n\u001b[1;32m    635\u001b[0m \u001b[38;5;28;01melif\u001b[39;00m \u001b[38;5;28misinstance\u001b[39m(data, \u001b[38;5;28mdict\u001b[39m):\n\u001b[1;32m    636\u001b[0m     \u001b[38;5;66;03m# GH#38939 de facto copy defaults to False only in non-dict cases\u001b[39;00m\n\u001b[0;32m--> 637\u001b[0m     mgr \u001b[38;5;241m=\u001b[39m \u001b[43mdict_to_mgr\u001b[49m\u001b[43m(\u001b[49m\u001b[43mdata\u001b[49m\u001b[43m,\u001b[49m\u001b[43m \u001b[49m\u001b[43mindex\u001b[49m\u001b[43m,\u001b[49m\u001b[43m \u001b[49m\u001b[43mcolumns\u001b[49m\u001b[43m,\u001b[49m\u001b[43m \u001b[49m\u001b[43mdtype\u001b[49m\u001b[38;5;241;43m=\u001b[39;49m\u001b[43mdtype\u001b[49m\u001b[43m,\u001b[49m\u001b[43m \u001b[49m\u001b[43mcopy\u001b[49m\u001b[38;5;241;43m=\u001b[39;49m\u001b[43mcopy\u001b[49m\u001b[43m,\u001b[49m\u001b[43m \u001b[49m\u001b[43mtyp\u001b[49m\u001b[38;5;241;43m=\u001b[39;49m\u001b[43mmanager\u001b[49m\u001b[43m)\u001b[49m\n\u001b[1;32m    638\u001b[0m \u001b[38;5;28;01melif\u001b[39;00m \u001b[38;5;28misinstance\u001b[39m(data, ma\u001b[38;5;241m.\u001b[39mMaskedArray):\n\u001b[1;32m    639\u001b[0m     \u001b[38;5;28;01mimport\u001b[39;00m \u001b[38;5;21;01mnumpy\u001b[39;00m\u001b[38;5;21;01m.\u001b[39;00m\u001b[38;5;21;01mma\u001b[39;00m\u001b[38;5;21;01m.\u001b[39;00m\u001b[38;5;21;01mmrecords\u001b[39;00m \u001b[38;5;28;01mas\u001b[39;00m \u001b[38;5;21;01mmrecords\u001b[39;00m\n",
      "File \u001b[0;32m~/Projects/web3env/lib/python3.9/site-packages/pandas/core/internals/construction.py:452\u001b[0m, in \u001b[0;36mdict_to_mgr\u001b[0;34m(data, index, columns, dtype, typ, copy)\u001b[0m\n\u001b[1;32m    450\u001b[0m     index \u001b[38;5;241m=\u001b[39m _extract_index(arrays[\u001b[38;5;241m~\u001b[39mmissing])\n\u001b[1;32m    451\u001b[0m \u001b[38;5;28;01melse\u001b[39;00m:\n\u001b[0;32m--> 452\u001b[0m     index \u001b[38;5;241m=\u001b[39m \u001b[43mensure_index\u001b[49m\u001b[43m(\u001b[49m\u001b[43mindex\u001b[49m\u001b[43m)\u001b[49m\n\u001b[1;32m    454\u001b[0m \u001b[38;5;66;03m# no obvious \"empty\" int column\u001b[39;00m\n\u001b[1;32m    455\u001b[0m \u001b[38;5;28;01mif\u001b[39;00m missing\u001b[38;5;241m.\u001b[39many() \u001b[38;5;129;01mand\u001b[39;00m \u001b[38;5;129;01mnot\u001b[39;00m is_integer_dtype(dtype):\n",
      "File \u001b[0;32m~/Projects/web3env/lib/python3.9/site-packages/pandas/core/indexes/base.py:7043\u001b[0m, in \u001b[0;36mensure_index\u001b[0;34m(index_like, copy)\u001b[0m\n\u001b[1;32m   7041\u001b[0m         \u001b[38;5;28;01mreturn\u001b[39;00m Index\u001b[38;5;241m.\u001b[39m_with_infer(index_like, copy\u001b[38;5;241m=\u001b[39mcopy, tupleize_cols\u001b[38;5;241m=\u001b[39m\u001b[38;5;28;01mFalse\u001b[39;00m)\n\u001b[1;32m   7042\u001b[0m \u001b[38;5;28;01melse\u001b[39;00m:\n\u001b[0;32m-> 7043\u001b[0m     \u001b[38;5;28;01mreturn\u001b[39;00m \u001b[43mIndex\u001b[49m\u001b[38;5;241;43m.\u001b[39;49m\u001b[43m_with_infer\u001b[49m\u001b[43m(\u001b[49m\u001b[43mindex_like\u001b[49m\u001b[43m,\u001b[49m\u001b[43m \u001b[49m\u001b[43mcopy\u001b[49m\u001b[38;5;241;43m=\u001b[39;49m\u001b[43mcopy\u001b[49m\u001b[43m)\u001b[49m\n",
      "File \u001b[0;32m~/Projects/web3env/lib/python3.9/site-packages/pandas/core/indexes/base.py:680\u001b[0m, in \u001b[0;36mIndex._with_infer\u001b[0;34m(cls, *args, **kwargs)\u001b[0m\n\u001b[1;32m    678\u001b[0m \u001b[38;5;28;01mwith\u001b[39;00m warnings\u001b[38;5;241m.\u001b[39mcatch_warnings():\n\u001b[1;32m    679\u001b[0m     warnings\u001b[38;5;241m.\u001b[39mfilterwarnings(\u001b[38;5;124m\"\u001b[39m\u001b[38;5;124mignore\u001b[39m\u001b[38;5;124m\"\u001b[39m, \u001b[38;5;124m\"\u001b[39m\u001b[38;5;124m.*the Index constructor\u001b[39m\u001b[38;5;124m\"\u001b[39m, \u001b[38;5;167;01mFutureWarning\u001b[39;00m)\n\u001b[0;32m--> 680\u001b[0m     result \u001b[38;5;241m=\u001b[39m \u001b[38;5;28;43mcls\u001b[39;49m\u001b[43m(\u001b[49m\u001b[38;5;241;43m*\u001b[39;49m\u001b[43margs\u001b[49m\u001b[43m,\u001b[49m\u001b[43m \u001b[49m\u001b[38;5;241;43m*\u001b[39;49m\u001b[38;5;241;43m*\u001b[39;49m\u001b[43mkwargs\u001b[49m\u001b[43m)\u001b[49m\n\u001b[1;32m    682\u001b[0m \u001b[38;5;28;01mif\u001b[39;00m result\u001b[38;5;241m.\u001b[39mdtype \u001b[38;5;241m==\u001b[39m _dtype_obj \u001b[38;5;129;01mand\u001b[39;00m \u001b[38;5;129;01mnot\u001b[39;00m result\u001b[38;5;241m.\u001b[39m_is_multi:\n\u001b[1;32m    683\u001b[0m     \u001b[38;5;66;03m# error: Argument 1 to \"maybe_convert_objects\" has incompatible type\u001b[39;00m\n\u001b[1;32m    684\u001b[0m     \u001b[38;5;66;03m# \"Union[ExtensionArray, ndarray[Any, Any]]\"; expected\u001b[39;00m\n\u001b[1;32m    685\u001b[0m     \u001b[38;5;66;03m# \"ndarray[Any, Any]\"\u001b[39;00m\n\u001b[1;32m    686\u001b[0m     values \u001b[38;5;241m=\u001b[39m lib\u001b[38;5;241m.\u001b[39mmaybe_convert_objects(result\u001b[38;5;241m.\u001b[39m_values)  \u001b[38;5;66;03m# type: ignore[arg-type]\u001b[39;00m\n",
      "File \u001b[0;32m~/Projects/web3env/lib/python3.9/site-packages/pandas/core/indexes/base.py:508\u001b[0m, in \u001b[0;36mIndex.__new__\u001b[0;34m(cls, data, dtype, copy, name, tupleize_cols, **kwargs)\u001b[0m\n\u001b[1;32m    505\u001b[0m     \u001b[38;5;28;01mreturn\u001b[39;00m klass\u001b[38;5;241m.\u001b[39m_simple_new(arr, name)\n\u001b[1;32m    507\u001b[0m \u001b[38;5;28;01melif\u001b[39;00m is_scalar(data):\n\u001b[0;32m--> 508\u001b[0m     \u001b[38;5;28;01mraise\u001b[39;00m \u001b[38;5;28mcls\u001b[39m\u001b[38;5;241m.\u001b[39m_scalar_data_error(data)\n\u001b[1;32m    509\u001b[0m \u001b[38;5;28;01melif\u001b[39;00m \u001b[38;5;28mhasattr\u001b[39m(data, \u001b[38;5;124m\"\u001b[39m\u001b[38;5;124m__array__\u001b[39m\u001b[38;5;124m\"\u001b[39m):\n\u001b[1;32m    510\u001b[0m     \u001b[38;5;28;01mreturn\u001b[39;00m Index(np\u001b[38;5;241m.\u001b[39masarray(data), dtype\u001b[38;5;241m=\u001b[39mdtype, copy\u001b[38;5;241m=\u001b[39mcopy, name\u001b[38;5;241m=\u001b[39mname, \u001b[38;5;241m*\u001b[39m\u001b[38;5;241m*\u001b[39mkwargs)\n",
      "\u001b[0;31mTypeError\u001b[0m: Index(...) must be called with a collection of some kind, 'index' was passed"
     ]
    }
   ],
   "source": [
    "runstrat('--data0 015ES --timeframe days --compression 1 --pyfolio --printout --cash 200000 --short'.split())"
   ]
  },
  {
   "cell_type": "code",
   "execution_count": 42,
   "metadata": {},
   "outputs": [],
   "source": [
    "import datetime\n",
    "import time\n",
    "from datetime import date\n",
    "from datetime import datetime\n",
    "import pandas as pd"
   ]
  },
  {
   "cell_type": "code",
   "execution_count": 18,
   "metadata": {},
   "outputs": [],
   "source": [
    "x = '2022-01-01'"
   ]
  },
  {
   "cell_type": "code",
   "execution_count": 10,
   "metadata": {},
   "outputs": [],
   "source": [
    "y = datetime.datetime.now()"
   ]
  },
  {
   "cell_type": "code",
   "execution_count": 11,
   "metadata": {},
   "outputs": [
    {
     "data": {
      "text/plain": [
       "datetime.date(2022, 3, 9)"
      ]
     },
     "execution_count": 11,
     "metadata": {},
     "output_type": "execute_result"
    }
   ],
   "source": [
    "y.date()"
   ]
  },
  {
   "cell_type": "code",
   "execution_count": 14,
   "metadata": {},
   "outputs": [
    {
     "data": {
      "text/plain": [
       "2022"
      ]
     },
     "execution_count": 14,
     "metadata": {},
     "output_type": "execute_result"
    }
   ],
   "source": [
    "y.year"
   ]
  },
  {
   "cell_type": "code",
   "execution_count": 16,
   "metadata": {},
   "outputs": [
    {
     "data": {
      "text/plain": [
       "'2022-03-09'"
      ]
     },
     "execution_count": 16,
     "metadata": {},
     "output_type": "execute_result"
    }
   ],
   "source": [
    "y.strftime('%Y-%m-%d')"
   ]
  },
  {
   "cell_type": "code",
   "execution_count": 24,
   "metadata": {},
   "outputs": [
    {
     "data": {
      "text/plain": [
       "datetime.date(2022, 3, 9)"
      ]
     },
     "execution_count": 24,
     "metadata": {},
     "output_type": "execute_result"
    }
   ],
   "source": [
    "y.date()"
   ]
  },
  {
   "cell_type": "code",
   "execution_count": 40,
   "metadata": {},
   "outputs": [
    {
     "data": {
      "text/plain": [
       "'2022-01-01'"
      ]
     },
     "execution_count": 40,
     "metadata": {},
     "output_type": "execute_result"
    }
   ],
   "source": [
    "datetime.strptime(x,'%Y-%m-%d').strftime('%Y-%m-%d')"
   ]
  },
  {
   "cell_type": "code",
   "execution_count": 60,
   "metadata": {},
   "outputs": [
    {
     "data": {
      "text/plain": [
       "{'date': ['2022-01-01T21:21:21', '2022-01-01T21:21:22'], 'num': [1, 2]}"
      ]
     },
     "execution_count": 60,
     "metadata": {},
     "output_type": "execute_result"
    }
   ],
   "source": [
    "data = {'date':['2022-01-01T21:21:21','2022-01-01T21:21:22'],'num':[1,2]}\n",
    "data"
   ]
  },
  {
   "cell_type": "code",
   "execution_count": 61,
   "metadata": {},
   "outputs": [
    {
     "data": {
      "text/html": [
       "<div>\n",
       "<style scoped>\n",
       "    .dataframe tbody tr th:only-of-type {\n",
       "        vertical-align: middle;\n",
       "    }\n",
       "\n",
       "    .dataframe tbody tr th {\n",
       "        vertical-align: top;\n",
       "    }\n",
       "\n",
       "    .dataframe thead th {\n",
       "        text-align: right;\n",
       "    }\n",
       "</style>\n",
       "<table border=\"1\" class=\"dataframe\">\n",
       "  <thead>\n",
       "    <tr style=\"text-align: right;\">\n",
       "      <th></th>\n",
       "      <th>date</th>\n",
       "      <th>num</th>\n",
       "    </tr>\n",
       "  </thead>\n",
       "  <tbody>\n",
       "    <tr>\n",
       "      <th>0</th>\n",
       "      <td>2022-01-01T21:21:21</td>\n",
       "      <td>1</td>\n",
       "    </tr>\n",
       "    <tr>\n",
       "      <th>1</th>\n",
       "      <td>2022-01-01T21:21:22</td>\n",
       "      <td>2</td>\n",
       "    </tr>\n",
       "  </tbody>\n",
       "</table>\n",
       "</div>"
      ],
      "text/plain": [
       "                  date  num\n",
       "0  2022-01-01T21:21:21    1\n",
       "1  2022-01-01T21:21:22    2"
      ]
     },
     "execution_count": 61,
     "metadata": {},
     "output_type": "execute_result"
    }
   ],
   "source": [
    "df = pd.DataFrame( data = data)\n",
    "df"
   ]
  },
  {
   "cell_type": "code",
   "execution_count": 62,
   "metadata": {},
   "outputs": [
    {
     "name": "stdout",
     "output_type": "stream",
     "text": [
      "<class 'pandas.core.frame.DataFrame'>\n",
      "RangeIndex: 2 entries, 0 to 1\n",
      "Data columns (total 2 columns):\n",
      " #   Column  Non-Null Count  Dtype \n",
      "---  ------  --------------  ----- \n",
      " 0   date    2 non-null      object\n",
      " 1   num     2 non-null      int64 \n",
      "dtypes: int64(1), object(1)\n",
      "memory usage: 160.0+ bytes\n"
     ]
    }
   ],
   "source": [
    "df.info()"
   ]
  },
  {
   "cell_type": "code",
   "execution_count": 63,
   "metadata": {},
   "outputs": [
    {
     "data": {
      "text/html": [
       "<div>\n",
       "<style scoped>\n",
       "    .dataframe tbody tr th:only-of-type {\n",
       "        vertical-align: middle;\n",
       "    }\n",
       "\n",
       "    .dataframe tbody tr th {\n",
       "        vertical-align: top;\n",
       "    }\n",
       "\n",
       "    .dataframe thead th {\n",
       "        text-align: right;\n",
       "    }\n",
       "</style>\n",
       "<table border=\"1\" class=\"dataframe\">\n",
       "  <thead>\n",
       "    <tr style=\"text-align: right;\">\n",
       "      <th></th>\n",
       "      <th>date</th>\n",
       "      <th>num</th>\n",
       "    </tr>\n",
       "  </thead>\n",
       "  <tbody>\n",
       "    <tr>\n",
       "      <th>0</th>\n",
       "      <td>2022-01-01 21:21:21</td>\n",
       "      <td>1</td>\n",
       "    </tr>\n",
       "    <tr>\n",
       "      <th>1</th>\n",
       "      <td>2022-01-01 21:21:22</td>\n",
       "      <td>2</td>\n",
       "    </tr>\n",
       "  </tbody>\n",
       "</table>\n",
       "</div>"
      ],
      "text/plain": [
       "                 date  num\n",
       "0 2022-01-01 21:21:21    1\n",
       "1 2022-01-01 21:21:22    2"
      ]
     },
     "execution_count": 63,
     "metadata": {},
     "output_type": "execute_result"
    }
   ],
   "source": [
    "df[\"date\"]= pd.to_datetime(df[\"date\"])\n",
    "df"
   ]
  },
  {
   "cell_type": "code",
   "execution_count": 64,
   "metadata": {},
   "outputs": [],
   "source": [
    "df.set_index('date',inplace=True)\n"
   ]
  },
  {
   "cell_type": "code",
   "execution_count": 65,
   "metadata": {},
   "outputs": [
    {
     "data": {
      "text/html": [
       "<div>\n",
       "<style scoped>\n",
       "    .dataframe tbody tr th:only-of-type {\n",
       "        vertical-align: middle;\n",
       "    }\n",
       "\n",
       "    .dataframe tbody tr th {\n",
       "        vertical-align: top;\n",
       "    }\n",
       "\n",
       "    .dataframe thead th {\n",
       "        text-align: right;\n",
       "    }\n",
       "</style>\n",
       "<table border=\"1\" class=\"dataframe\">\n",
       "  <thead>\n",
       "    <tr style=\"text-align: right;\">\n",
       "      <th></th>\n",
       "      <th>num</th>\n",
       "    </tr>\n",
       "    <tr>\n",
       "      <th>date</th>\n",
       "      <th></th>\n",
       "    </tr>\n",
       "  </thead>\n",
       "  <tbody>\n",
       "    <tr>\n",
       "      <th>2022-01-01 21:21:21</th>\n",
       "      <td>1</td>\n",
       "    </tr>\n",
       "    <tr>\n",
       "      <th>2022-01-01 21:21:22</th>\n",
       "      <td>2</td>\n",
       "    </tr>\n",
       "  </tbody>\n",
       "</table>\n",
       "</div>"
      ],
      "text/plain": [
       "                     num\n",
       "date                    \n",
       "2022-01-01 21:21:21    1\n",
       "2022-01-01 21:21:22    2"
      ]
     },
     "execution_count": 65,
     "metadata": {},
     "output_type": "execute_result"
    }
   ],
   "source": [
    "df\n"
   ]
  },
  {
   "cell_type": "code",
   "execution_count": 59,
   "metadata": {},
   "outputs": [
    {
     "name": "stdout",
     "output_type": "stream",
     "text": [
      "<class 'pandas.core.frame.DataFrame'>\n",
      "Index: 2 entries, 2022-01-01T21:21:21 to 2022-01-01T21:21:22\n",
      "Data columns (total 1 columns):\n",
      " #   Column  Non-Null Count  Dtype\n",
      "---  ------  --------------  -----\n",
      " 0   num     2 non-null      int64\n",
      "dtypes: int64(1)\n",
      "memory usage: 140.0+ bytes\n"
     ]
    }
   ],
   "source": []
  },
  {
   "cell_type": "code",
   "execution_count": 66,
   "metadata": {},
   "outputs": [],
   "source": [
    "df.index = df.index.normalize()"
   ]
  },
  {
   "cell_type": "code",
   "execution_count": 67,
   "metadata": {},
   "outputs": [
    {
     "data": {
      "text/html": [
       "<div>\n",
       "<style scoped>\n",
       "    .dataframe tbody tr th:only-of-type {\n",
       "        vertical-align: middle;\n",
       "    }\n",
       "\n",
       "    .dataframe tbody tr th {\n",
       "        vertical-align: top;\n",
       "    }\n",
       "\n",
       "    .dataframe thead th {\n",
       "        text-align: right;\n",
       "    }\n",
       "</style>\n",
       "<table border=\"1\" class=\"dataframe\">\n",
       "  <thead>\n",
       "    <tr style=\"text-align: right;\">\n",
       "      <th></th>\n",
       "      <th>num</th>\n",
       "    </tr>\n",
       "    <tr>\n",
       "      <th>date</th>\n",
       "      <th></th>\n",
       "    </tr>\n",
       "  </thead>\n",
       "  <tbody>\n",
       "    <tr>\n",
       "      <th>2022-01-01</th>\n",
       "      <td>1</td>\n",
       "    </tr>\n",
       "    <tr>\n",
       "      <th>2022-01-01</th>\n",
       "      <td>2</td>\n",
       "    </tr>\n",
       "  </tbody>\n",
       "</table>\n",
       "</div>"
      ],
      "text/plain": [
       "            num\n",
       "date           \n",
       "2022-01-01    1\n",
       "2022-01-01    2"
      ]
     },
     "execution_count": 67,
     "metadata": {},
     "output_type": "execute_result"
    }
   ],
   "source": [
    "df"
   ]
  },
  {
   "cell_type": "code",
   "execution_count": 68,
   "metadata": {},
   "outputs": [
    {
     "data": {
      "text/html": [
       "<div>\n",
       "<style scoped>\n",
       "    .dataframe tbody tr th:only-of-type {\n",
       "        vertical-align: middle;\n",
       "    }\n",
       "\n",
       "    .dataframe tbody tr th {\n",
       "        vertical-align: top;\n",
       "    }\n",
       "\n",
       "    .dataframe thead th {\n",
       "        text-align: right;\n",
       "    }\n",
       "</style>\n",
       "<table border=\"1\" class=\"dataframe\">\n",
       "  <thead>\n",
       "    <tr style=\"text-align: right;\">\n",
       "      <th></th>\n",
       "      <th>num</th>\n",
       "    </tr>\n",
       "    <tr>\n",
       "      <th>date</th>\n",
       "      <th></th>\n",
       "    </tr>\n",
       "  </thead>\n",
       "  <tbody>\n",
       "    <tr>\n",
       "      <th>2022-01-01</th>\n",
       "      <td>3</td>\n",
       "    </tr>\n",
       "  </tbody>\n",
       "</table>\n",
       "</div>"
      ],
      "text/plain": [
       "            num\n",
       "date           \n",
       "2022-01-01    3"
      ]
     },
     "execution_count": 68,
     "metadata": {},
     "output_type": "execute_result"
    }
   ],
   "source": [
    "df.groupby(df.index).sum()"
   ]
  },
  {
   "cell_type": "code",
   "execution_count": null,
   "metadata": {},
   "outputs": [],
   "source": []
  }
 ],
 "metadata": {
  "kernelspec": {
   "display_name": "Python 3 (ipykernel)",
   "language": "python",
   "name": "python3"
  },
  "language_info": {
   "codemirror_mode": {
    "name": "ipython",
    "version": 3
   },
   "file_extension": ".py",
   "mimetype": "text/x-python",
   "name": "python",
   "nbconvert_exporter": "python",
   "pygments_lexer": "ipython3",
   "version": "3.9.5"
  }
 },
 "nbformat": 4,
 "nbformat_minor": 1
}
